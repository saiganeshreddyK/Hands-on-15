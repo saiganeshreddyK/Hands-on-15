{
 "cells": [
  {
   "cell_type": "code",
   "execution_count": 2,
   "id": "06aef412-34de-4cdd-975d-5f58fe7c09d7",
   "metadata": {},
   "outputs": [
    {
     "name": "stdout",
     "output_type": "stream",
     "text": [
      "Shortest distances from node A to all other nodes:\n",
      "{'A': 0, 'B': 5, 'C': 2, 'D': 6, 'E': 4}\n"
     ]
    }
   ],
   "source": [
    "def bellman_ford(graph, start):\n",
    "   \n",
    "    distances = {node: float('inf') for node in graph}\n",
    "    distances[start] = 0\n",
    "    \n",
    "    for _ in range(len(graph) - 1):\n",
    "        for node in graph:\n",
    "            for neighbor, weight in graph[node].items():\n",
    "                if distances[node] + weight < distances[neighbor]:\n",
    "                    distances[neighbor] = distances[node] + weight\n",
    "    \n",
    "    for node in graph:\n",
    "        for neighbor, weight in graph[node].items():\n",
    "            if distances[node] + weight < distances[neighbor]:\n",
    "                raise ValueError(\"Graph contains a negative cycle\")\n",
    "    \n",
    "    return distances\n",
    "\n",
    "# Example \n",
    "\n",
    "# Example graph without negative cycles\n",
    "graph = {\n",
    "    'A': {'B': 6, 'C': 2},\n",
    "    'B': {'D': 1},\n",
    "    'C': {'B': 3, 'D': 5},\n",
    "    'D': {'E': -2},\n",
    "    'E': {}\n",
    "}\n",
    "\n",
    "# Test the algorithm with example graph\n",
    "start_node = 'A'\n",
    "try:\n",
    "    shortest_distances = bellman_ford(graph, start_node)\n",
    "    print(\"Shortest distances from node\", start_node, \"to all other nodes:\")\n",
    "    print(shortest_distances)\n",
    "except ValueError as e:\n",
    "    print(e)"
   ]
  }
 ],
 "metadata": {
  "kernelspec": {
   "display_name": "Python 3 (ipykernel)",
   "language": "python",
   "name": "python3"
  },
  "language_info": {
   "codemirror_mode": {
    "name": "ipython",
    "version": 3
   },
   "file_extension": ".py",
   "mimetype": "text/x-python",
   "name": "python",
   "nbconvert_exporter": "python",
   "pygments_lexer": "ipython3",
   "version": "3.12.1"
  }
 },
 "nbformat": 4,
 "nbformat_minor": 5
}
