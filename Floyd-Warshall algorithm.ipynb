{
 "cells": [
  {
   "cell_type": "code",
   "execution_count": 6,
   "id": "060b2d1c-3ee5-45bc-a44d-59c6c942cd6d",
   "metadata": {},
   "outputs": [
    {
     "name": "stdout",
     "output_type": "stream",
     "text": [
      "Shortest distances between all pairs of nodes:\n",
      "Distance from A to A: 0\n",
      "Distance from A to B: 2\n",
      "Distance from A to C: 3\n",
      "Distance from A to D: 5\n",
      "Distance from B to A: 2\n",
      "Distance from B to B: 0\n",
      "Distance from B to C: 1\n",
      "Distance from B to D: 4\n",
      "Distance from C to A: 4\n",
      "Distance from C to B: 6\n",
      "Distance from C to C: 0\n",
      "Distance from C to D: 3\n",
      "Distance from D to A: 1\n",
      "Distance from D to B: 3\n",
      "Distance from D to C: 4\n",
      "Distance from D to D: 0\n"
     ]
    }
   ],
   "source": [
    "def floyd_warshall(graph):\n",
    "    # Initialize the distance matrix with the graph's adjacency matrix\n",
    "    dist = {i: {j: float('inf') for j in graph} for i in graph}\n",
    "    for node in graph:\n",
    "        dist[node][node] = 0\n",
    "        for neighbor, weight in graph[node].items():\n",
    "            dist[node][neighbor] = weight\n",
    "    \n",
    "    # Iterate over all intermediate nodes\n",
    "    for k in graph:\n",
    "        for i in graph:\n",
    "            for j in graph:\n",
    "                # Update the shortest path if the current path is shorter\n",
    "                dist[i][j] = min(dist[i][j], dist[i][k] + dist[k][j])\n",
    "    \n",
    "    return dist\n",
    "\n",
    "\n",
    "# Example \n",
    "graph = {\n",
    "    'A': {'B': 2, 'C': 4, 'D': 5},\n",
    "    'B': {'A': 2, 'C': 1},\n",
    "    'C': {'D': 3},\n",
    "    'D': {'A': 1, 'C': 6}\n",
    "}\n",
    "\n",
    "\n",
    "shortest_distances = floyd_warshall(graph)\n",
    "print(\"Shortest distances between all pairs of nodes:\")\n",
    "for node1 in shortest_distances:\n",
    "    for node2 in shortest_distances[node1]:\n",
    "        print(f\"Distance from {node1} to {node2}: {shortest_distances[node1][node2]}\")\n",
    "\n"
   ]
  }
 ],
 "metadata": {
  "kernelspec": {
   "display_name": "Python 3 (ipykernel)",
   "language": "python",
   "name": "python3"
  },
  "language_info": {
   "codemirror_mode": {
    "name": "ipython",
    "version": 3
   },
   "file_extension": ".py",
   "mimetype": "text/x-python",
   "name": "python",
   "nbconvert_exporter": "python",
   "pygments_lexer": "ipython3",
   "version": "3.12.1"
  }
 },
 "nbformat": 4,
 "nbformat_minor": 5
}
